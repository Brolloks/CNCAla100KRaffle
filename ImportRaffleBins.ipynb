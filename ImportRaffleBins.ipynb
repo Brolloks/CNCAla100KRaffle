{
    "cells": [
        {
            "cell_type": "code",
            "execution_count": null,
            "metadata": {},
            "outputs": [],
            "source": [
                "!wget https://vscode.dev/github/Brolloks/CNCAla-raffle/blob/287164d3152e25e6e87b9e74b398ced233c4557c/raffle-bin.tar"
            ]
        }
    ],
    "metadata": {
        "kernelspec": {
            "display_name": "Bash",
            "language": "bash",
            "name": "bash"
        },
        "language_info": {
            "codemirror_mode": "shell",
            "file_extension": ".sh",
            "mimetype": "text/x-sh",
            "name": "bash"
        }
    },
    "nbformat": 4,
    "nbformat_minor": 4
}
